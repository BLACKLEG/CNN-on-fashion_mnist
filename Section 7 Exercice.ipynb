{
 "cells": [
  {
   "cell_type": "code",
   "execution_count": 1,
   "metadata": {},
   "outputs": [
    {
     "name": "stdout",
     "output_type": "stream",
     "text": [
      "Downloading data from https://storage.googleapis.com/tensorflow/tf-keras-datasets/train-labels-idx1-ubyte.gz\n",
      "32768/29515 [=================================] - 0s 1us/step\n",
      "Downloading data from https://storage.googleapis.com/tensorflow/tf-keras-datasets/train-images-idx3-ubyte.gz\n",
      "26427392/26421880 [==============================] - 5s 0us/step\n",
      "Downloading data from https://storage.googleapis.com/tensorflow/tf-keras-datasets/t10k-labels-idx1-ubyte.gz\n",
      "8192/5148 [===============================================] - 0s 0us/step\n",
      "Downloading data from https://storage.googleapis.com/tensorflow/tf-keras-datasets/t10k-images-idx3-ubyte.gz\n",
      "4423680/4422102 [==============================] - 1s 0us/step\n"
     ]
    }
   ],
   "source": [
    "from tensorflow.keras.datasets import fashion_mnist\n",
    "\n",
    "(x_train, y_train), (x_test, y_test) = fashion_mnist.load_data()"
   ]
  },
  {
   "cell_type": "code",
   "execution_count": null,
   "metadata": {},
   "outputs": [],
   "source": [
    "# Label    Description\n",
    "# 0        T-shirt/top\n",
    "# 1        Trouser\n",
    "# 2        Pullover\n",
    "# 3        Dress\n",
    "# 4        Coat\n",
    "# 5        Sandal\n",
    "# 6        Shirt\n",
    "# 7        Sneaker\n",
    "# 8        Bag\n",
    "# 9        Ankle boot"
   ]
  },
  {
   "cell_type": "code",
   "execution_count": 7,
   "metadata": {},
   "outputs": [
    {
     "data": {
      "text/plain": [
       "array([9, 0, 0, ..., 3, 0, 5], dtype=uint8)"
      ]
     },
     "execution_count": 7,
     "metadata": {},
     "output_type": "execute_result"
    }
   ],
   "source": [
    "y_train"
   ]
  },
  {
   "cell_type": "code",
   "execution_count": 8,
   "metadata": {},
   "outputs": [
    {
     "data": {
      "text/plain": [
       "(60000,)"
      ]
     },
     "execution_count": 8,
     "metadata": {},
     "output_type": "execute_result"
    }
   ],
   "source": [
    "y_train.shape"
   ]
  },
  {
   "cell_type": "code",
   "execution_count": 6,
   "metadata": {},
   "outputs": [
    {
     "data": {
      "text/plain": [
       "(60000, 28, 28)"
      ]
     },
     "execution_count": 6,
     "metadata": {},
     "output_type": "execute_result"
    }
   ],
   "source": [
    "x_train.shape"
   ]
  },
  {
   "cell_type": "code",
   "execution_count": 9,
   "metadata": {},
   "outputs": [],
   "source": [
    "# librairie\n",
    "import pandas as pd \n",
    "import numpy as np\n",
    "import matplotlib.pyplot as plt \n"
   ]
  },
  {
   "cell_type": "code",
   "execution_count": 11,
   "metadata": {},
   "outputs": [
    {
     "data": {
      "text/plain": [
       "(28, 28)"
      ]
     },
     "execution_count": 11,
     "metadata": {},
     "output_type": "execute_result"
    }
   ],
   "source": [
    "#format : petite image \n",
    "x_train[0].shape"
   ]
  },
  {
   "cell_type": "code",
   "execution_count": 12,
   "metadata": {},
   "outputs": [
    {
     "data": {
      "text/plain": [
       "<matplotlib.image.AxesImage at 0x15ccd6a0a60>"
      ]
     },
     "execution_count": 12,
     "metadata": {},
     "output_type": "execute_result"
    },
    {
     "data": {
      "image/png": "[encoded data removed]",
      "text/plain": [
       "<Figure size 432x288 with 1 Axes>"
      ]
     },
     "metadata": {
      "needs_background": "light"
     },
     "output_type": "display_data"
    }
   ],
   "source": [
    "plt.imshow ( x_train[0] )"
   ]
  },
  {
   "cell_type": "code",
   "execution_count": 13,
   "metadata": {},
   "outputs": [
    {
     "data": {
      "text/plain": [
       "9"
      ]
     },
     "execution_count": 13,
     "metadata": {},
     "output_type": "execute_result"
    }
   ],
   "source": [
    "#c est un chaussure \n",
    "y_train [0]\n",
    "\n",
    "# 9        Ankle boot\n",
    "\n",
    "# cela a l air ok"
   ]
  },
  {
   "cell_type": "code",
   "execution_count": 17,
   "metadata": {},
   "outputs": [],
   "source": [
    "# y doit etre onehot encoding\n",
    "\n",
    "from tensorflow.keras.utils import to_categorical\n",
    "\n",
    "y_train_cat = to_categorical ( y_train)\n",
    "y_test_cat = to_categorical ( y_test)"
   ]
  },
  {
   "cell_type": "code",
   "execution_count": 19,
   "metadata": {},
   "outputs": [],
   "source": [
    "# x doit etre normaliser \n",
    "\n",
    "x_train_norm = x_train / 255\n",
    "x_test_norm = x_test / 255\n"
   ]
  },
  {
   "cell_type": "code",
   "execution_count": 38,
   "metadata": {},
   "outputs": [
    {
     "data": {
      "text/plain": [
       "(60000, 28, 28, 1)"
      ]
     },
     "execution_count": 38,
     "metadata": {},
     "output_type": "execute_result"
    }
   ],
   "source": [
    "x_train_norm.shape"
   ]
  },
  {
   "cell_type": "code",
   "execution_count": 39,
   "metadata": {},
   "outputs": [
    {
     "data": {
      "text/plain": [
       "(10000, 28, 28, 1)"
      ]
     },
     "execution_count": 39,
     "metadata": {},
     "output_type": "execute_result"
    }
   ],
   "source": [
    "x_test_norm.shape"
   ]
  },
  {
   "cell_type": "code",
   "execution_count": 30,
   "metadata": {},
   "outputs": [],
   "source": [
    "x_train_norm = x_train_norm.reshape (60000, 28, 28,1)\n",
    "x_test_norm = x_test_norm.reshape (10000, 28, 28,1)"
   ]
  },
  {
   "cell_type": "code",
   "execution_count": 48,
   "metadata": {},
   "outputs": [],
   "source": [
    "#CNN\n",
    "from tensorflow.keras.models import Sequential\n",
    "from tensorflow.keras.layers import Conv2D,MaxPool2D, Flatten, Dense\n",
    "\n",
    "from tensorflow.keras.callbacks import EarlyStopping\n",
    "\n",
    "\n",
    "model = Sequential ()\n",
    "#couches \n",
    "model.add ( Conv2D ( filters = 32 , #nombre de filtre    \n",
    "                     kernel_size = (4,4),   #le noyau \n",
    "                     input_shape = (28,28,1), #taille de l input\n",
    "                     activation= 'relu') )  \n",
    "\n",
    "model.add (MaxPool2D (pool_size = (2,2) ) )  #la 1/2 du noyau \n",
    "\n",
    "model.add ( Conv2D ( filters = 32 , #nombre de filtre    \n",
    "                     kernel_size = (4,4),   #le noyau \n",
    "                     input_shape = (28,28,1), #taille de l input\n",
    "                     activation= 'relu') )  \n",
    "\n",
    "model.add (MaxPool2D (pool_size = (2,2) ) )  #la 1/2 du noyau \n",
    "\n",
    "model.add ( Flatten () )  \n",
    "\n",
    "model.add ( Dense (128 , activation = 'relu'))\n",
    "\n",
    "model.add ( Dense (10 ,                      # il y a 10 classes\n",
    "                   activation = 'softmax'))  # c est un pb de \n",
    "                                             # classification multi class\n",
    "\n",
    "#compile\n",
    "model.compile ( loss = 'categorical_crossentropy' , \n",
    "                optimizer = 'adam', \n",
    "                metrics = [ 'accuracy' ] )  #nous allons verifier les loss (pertes)\n",
    "                                            # mais aussi la presicion\n",
    "#callbacks\n",
    "ea = EarlyStopping (    monitor='val_loss',\n",
    "    patience=3,)"
   ]
  },
  {
   "cell_type": "code",
   "execution_count": 49,
   "metadata": {},
   "outputs": [
    {
     "name": "stdout",
     "output_type": "stream",
     "text": [
      "Epoch 1/15\n",
      "1875/1875 [==============================] - 30s 16ms/step - loss: 0.5143 - accuracy: 0.8104 - val_loss: 0.4059 - val_accuracy: 0.8565\n",
      "Epoch 2/15\n",
      "1875/1875 [==============================] - 31s 16ms/step - loss: 0.3376 - accuracy: 0.8768 - val_loss: 0.3395 - val_accuracy: 0.8775\n",
      "Epoch 3/15\n",
      "1875/1875 [==============================] - 31s 16ms/step - loss: 0.2949 - accuracy: 0.8914 - val_loss: 0.3227 - val_accuracy: 0.8808\n",
      "Epoch 4/15\n",
      "1875/1875 [==============================] - 31s 16ms/step - loss: 0.2621 - accuracy: 0.9030 - val_loss: 0.2961 - val_accuracy: 0.8929\n",
      "Epoch 5/15\n",
      "1875/1875 [==============================] - 31s 17ms/step - loss: 0.2392 - accuracy: 0.9115 - val_loss: 0.3139 - val_accuracy: 0.8859\n",
      "Epoch 6/15\n",
      "1875/1875 [==============================] - 31s 16ms/step - loss: 0.2208 - accuracy: 0.9170 - val_loss: 0.3283 - val_accuracy: 0.8818\n",
      "Epoch 7/15\n",
      "1875/1875 [==============================] - 31s 16ms/step - loss: 0.2042 - accuracy: 0.9230 - val_loss: 0.2876 - val_accuracy: 0.8945\n",
      "Epoch 8/15\n",
      "1875/1875 [==============================] - 31s 16ms/step - loss: 0.1884 - accuracy: 0.9293 - val_loss: 0.2937 - val_accuracy: 0.8980\n",
      "Epoch 9/15\n",
      "1875/1875 [==============================] - 31s 16ms/step - loss: 0.1758 - accuracy: 0.9342 - val_loss: 0.3034 - val_accuracy: 0.8956\n",
      "Epoch 10/15\n",
      "1875/1875 [==============================] - 31s 17ms/step - loss: 0.1630 - accuracy: 0.9388 - val_loss: 0.2865 - val_accuracy: 0.9016\n",
      "Epoch 11/15\n",
      "1875/1875 [==============================] - 32s 17ms/step - loss: 0.1517 - accuracy: 0.9435 - val_loss: 0.3231 - val_accuracy: 0.8883\n",
      "Epoch 12/15\n",
      "1875/1875 [==============================] - 32s 17ms/step - loss: 0.1400 - accuracy: 0.9483 - val_loss: 0.3138 - val_accuracy: 0.9053\n",
      "Epoch 13/15\n",
      "1875/1875 [==============================] - 32s 17ms/step - loss: 0.1311 - accuracy: 0.9504 - val_loss: 0.3194 - val_accuracy: 0.8996\n"
     ]
    },
    {
     "data": {
      "text/plain": [
       "<tensorflow.python.keras.callbacks.History at 0x15c82cfeb20>"
      ]
     },
     "execution_count": 49,
     "metadata": {},
     "output_type": "execute_result"
    }
   ],
   "source": [
    "# fit\n",
    "\n",
    "model.fit (     x=x_train_norm,\n",
    "    y=y_train_cat,\n",
    "#     batch_size=16,\n",
    "    epochs=15,\n",
    "    callbacks=[ea],\n",
    "    validation_data= (x_test_norm , y_test_cat)\n",
    "          )\n"
   ]
  },
  {
   "cell_type": "code",
   "execution_count": 51,
   "metadata": {},
   "outputs": [
    {
     "data": {
      "text/plain": [
       "Index(['loss', 'accuracy', 'val_loss', 'val_accuracy'], dtype='object')"
      ]
     },
     "execution_count": 51,
     "metadata": {},
     "output_type": "execute_result"
    }
   ],
   "source": [
    "# courbe d apprentissage \n",
    "df = pd.DataFrame(model.history.history)\n",
    "df.columns"
   ]
  },
  {
   "cell_type": "code",
   "execution_count": 52,
   "metadata": {},
   "outputs": [
    {
     "data": {
      "text/plain": [
       "<AxesSubplot:>"
      ]
     },
     "execution_count": 52,
     "metadata": {},
     "output_type": "execute_result"
    },
    {
     "data": {
      "image/png": "[encoded data removed]",
      "text/plain": [
       "<Figure size 432x288 with 1 Axes>"
      ]
     },
     "metadata": {
      "needs_background": "light"
     },
     "output_type": "display_data"
    }
   ],
   "source": [
    "df[['loss', 'val_loss']].plot()"
   ]
  },
  {
   "cell_type": "code",
   "execution_count": 53,
   "metadata": {},
   "outputs": [
    {
     "data": {
      "text/plain": [
       "<AxesSubplot:>"
      ]
     },
     "execution_count": 53,
     "metadata": {},
     "output_type": "execute_result"
    },
    {
     "data": {
      "image/png": "[encoded data removed]",
      "text/plain": [
       "<Figure size 432x288 with 1 Axes>"
      ]
     },
     "metadata": {
      "needs_background": "light"
     },
     "output_type": "display_data"
    }
   ],
   "source": [
    "df[['accuracy', 'val_accuracy']].plot()"
   ]
  },
  {
   "cell_type": "code",
   "execution_count": 54,
   "metadata": {},
   "outputs": [
    {
     "name": "stdout",
     "output_type": "stream",
     "text": [
      "313/313 [==============================] - 2s 5ms/step - loss: 0.3194 - accuracy: 0.8996\n"
     ]
    },
    {
     "data": {
      "text/plain": [
       "[0.31944188475608826, 0.8996000289916992]"
      ]
     },
     "execution_count": 54,
     "metadata": {},
     "output_type": "execute_result"
    }
   ],
   "source": [
    "#evaluation\n",
    "model.evaluate ( x_test_norm , y_test_cat  )"
   ]
  },
  {
   "cell_type": "code",
   "execution_count": 58,
   "metadata": {},
   "outputs": [],
   "source": [
    "#prediction test\n",
    "predict = model.predict (x_test_norm)\n"
   ]
  },
  {
   "cell_type": "code",
   "execution_count": 61,
   "metadata": {},
   "outputs": [
    {
     "data": {
      "text/plain": [
       "array([[0, 0, 0, ..., 0, 0, 1],\n",
       "       [0, 0, 1, ..., 0, 0, 0],\n",
       "       [0, 1, 0, ..., 0, 0, 0],\n",
       "       ...,\n",
       "       [0, 0, 0, ..., 0, 1, 0],\n",
       "       [0, 1, 0, ..., 0, 0, 0],\n",
       "       [0, 0, 0, ..., 0, 0, 0]])"
      ]
     },
     "execution_count": 61,
     "metadata": {},
     "output_type": "execute_result"
    }
   ],
   "source": [
    "p = (predict > 0.5).astype ('int')\n",
    "p"
   ]
  },
  {
   "cell_type": "code",
   "execution_count": 63,
   "metadata": {},
   "outputs": [
    {
     "name": "stdout",
     "output_type": "stream",
     "text": [
      "              precision    recall  f1-score   support\n",
      "\n",
      "           0       0.82      0.88      0.85       930\n",
      "           1       0.98      0.99      0.98       983\n",
      "           2       0.87      0.83      0.85      1051\n",
      "           3       0.91      0.90      0.90      1007\n",
      "           4       0.74      0.89      0.81       834\n",
      "           5       0.98      0.96      0.97      1023\n",
      "           6       0.76      0.70      0.73      1076\n",
      "           7       0.95      0.96      0.96       997\n",
      "           8       0.98      0.98      0.98       999\n",
      "           9       0.96      0.98      0.97       981\n",
      "\n",
      "   micro avg       0.89      0.91      0.90      9881\n",
      "   macro avg       0.89      0.91      0.90      9881\n",
      "weighted avg       0.90      0.91      0.90      9881\n",
      " samples avg       0.89      0.89      0.89      9881\n",
      "\n"
     ]
    }
   ],
   "source": [
    "#matrix de confussion et classification report \n",
    "from sklearn.metrics import classification_report\n",
    "\n",
    "print (classification_report (p ,y_test_cat ))"
   ]
  },
  {
   "cell_type": "code",
   "execution_count": 70,
   "metadata": {},
   "outputs": [
    {
     "data": {
      "image/png": "[encoded data removed]",
      "text/plain": [
       "<Figure size 1152x720 with 2 Axes>"
      ]
     },
     "metadata": {
      "needs_background": "light"
     },
     "output_type": "display_data"
    }
   ],
   "source": [
    "from sklearn.metrics import confusion_matrix\n",
    "import seaborn as sns\n",
    "\n",
    "conf = confusion_matrix (p.argmax(axis=1) ,y_test_cat.argmax(axis=1))\n",
    "plt.figure (figsize = (16,10))\n",
    "sns.heatmap (conf , annot = True );"
   ]
  },
  {
   "cell_type": "code",
   "execution_count": 72,
   "metadata": {},
   "outputs": [
    {
     "data": {
      "text/plain": [
       "(28, 28, 1)"
      ]
     },
     "execution_count": 72,
     "metadata": {},
     "output_type": "execute_result"
    }
   ],
   "source": [
    "#prediction\n",
    "\n",
    "x_test_norm[0].shape"
   ]
  },
  {
   "cell_type": "code",
   "execution_count": 79,
   "metadata": {},
   "outputs": [
    {
     "data": {
      "text/plain": [
       "(10000, 28, 28, 1)"
      ]
     },
     "execution_count": 79,
     "metadata": {},
     "output_type": "execute_result"
    }
   ],
   "source": [
    "x_test_norm.shape"
   ]
  },
  {
   "cell_type": "code",
   "execution_count": 87,
   "metadata": {},
   "outputs": [],
   "source": [
    "#prediction sur 1 element \n",
    "x = model.predict (x_test_norm[10].reshape (1,28,28,1))"
   ]
  },
  {
   "cell_type": "code",
   "execution_count": 88,
   "metadata": {},
   "outputs": [
    {
     "data": {
      "text/plain": [
       "array([4], dtype=int64)"
      ]
     },
     "execution_count": 88,
     "metadata": {},
     "output_type": "execute_result"
    }
   ],
   "source": [
    "# prediction \n",
    "x.argmax(axis = 1)\n",
    "# 4        Coat"
   ]
  },
  {
   "cell_type": "code",
   "execution_count": 86,
   "metadata": {},
   "outputs": [
    {
     "data": {
      "text/plain": [
       "4"
      ]
     },
     "execution_count": 86,
     "metadata": {},
     "output_type": "execute_result"
    }
   ],
   "source": [
    "#value reelle\n",
    "y_test[10]"
   ]
  },
  {
   "cell_type": "code",
   "execution_count": 89,
   "metadata": {},
   "outputs": [
    {
     "data": {
      "text/plain": [
       "<matplotlib.image.AxesImage at 0x15cff7f7760>"
      ]
     },
     "execution_count": 89,
     "metadata": {},
     "output_type": "execute_result"
    },
    {
     "data": {
      "image/png": "[encoded data removed]",
      "text/plain": [
       "<Figure size 432x288 with 1 Axes>"
      ]
     },
     "metadata": {
      "needs_background": "light"
     },
     "output_type": "display_data"
    }
   ],
   "source": [
    "plt.imshow (  x_test_norm[10] , )"
   ]
  }
 ],
 "metadata": {
  "kernelspec": {
   "display_name": "Python 3",
   "language": "python",
   "name": "python3"
  },
  "language_info": {
   "codemirror_mode": {
    "name": "ipython",
    "version": 3
   },
   "file_extension": ".py",
   "mimetype": "text/x-python",
   "name": "python",
   "nbconvert_exporter": "python",
   "pygments_lexer": "ipython3",
   "version": "3.8.3"
  }
 },
 "nbformat": 4,
 "nbformat_minor": 4
}
